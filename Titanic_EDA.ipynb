{
 "cells": [
  {
   "cell_type": "markdown",
   "id": "aa8bda36-3e4d-49e4-add9-9db4428469ed",
   "metadata": {},
   "source": [
    "# Titatic Exploratory Analysis \n",
    "\n",
    "The purpose of this notebook is to perform exploratory data analysis on the Kaggle Titanic competition. "
   ]
  },
  {
   "cell_type": "code",
   "execution_count": 1,
   "id": "dfad96f6-85ad-47d1-ae62-e83bdc1e3aa6",
   "metadata": {},
   "outputs": [
    {
     "name": "stdout",
     "output_type": "stream",
     "text": [
      "Populating the interactive namespace from numpy and matplotlib\n"
     ]
    }
   ],
   "source": [
    "import pandas as pd \n",
    "import numpy as np\n",
    "import matplotlib.pyplot as plt\n",
    "import seaborn as sns \n",
    "\n",
    "%matplotlib inline\n",
    "%pylab inline\n",
    "\n",
    "pd.set_option('display.max_columns', 100)"
   ]
  },
  {
   "cell_type": "code",
   "execution_count": 2,
   "id": "b3d06ea2-adfe-441d-b1b2-0437092abd43",
   "metadata": {},
   "outputs": [
    {
     "data": {
      "text/html": [
       "<div>\n",
       "<style scoped>\n",
       "    .dataframe tbody tr th:only-of-type {\n",
       "        vertical-align: middle;\n",
       "    }\n",
       "\n",
       "    .dataframe tbody tr th {\n",
       "        vertical-align: top;\n",
       "    }\n",
       "\n",
       "    .dataframe thead th {\n",
       "        text-align: right;\n",
       "    }\n",
       "</style>\n",
       "<table border=\"1\" class=\"dataframe\">\n",
       "  <thead>\n",
       "    <tr style=\"text-align: right;\">\n",
       "      <th></th>\n",
       "      <th>PassengerId</th>\n",
       "      <th>Survived</th>\n",
       "      <th>Pclass</th>\n",
       "      <th>Name</th>\n",
       "      <th>Sex</th>\n",
       "      <th>Age</th>\n",
       "      <th>SibSp</th>\n",
       "      <th>Parch</th>\n",
       "      <th>Ticket</th>\n",
       "      <th>Fare</th>\n",
       "      <th>Cabin</th>\n",
       "      <th>Embarked</th>\n",
       "    </tr>\n",
       "  </thead>\n",
       "  <tbody>\n",
       "    <tr>\n",
       "      <th>0</th>\n",
       "      <td>1</td>\n",
       "      <td>0</td>\n",
       "      <td>3</td>\n",
       "      <td>Braund, Mr. Owen Harris</td>\n",
       "      <td>male</td>\n",
       "      <td>22.0</td>\n",
       "      <td>1</td>\n",
       "      <td>0</td>\n",
       "      <td>A/5 21171</td>\n",
       "      <td>7.2500</td>\n",
       "      <td>NaN</td>\n",
       "      <td>S</td>\n",
       "    </tr>\n",
       "    <tr>\n",
       "      <th>1</th>\n",
       "      <td>2</td>\n",
       "      <td>1</td>\n",
       "      <td>1</td>\n",
       "      <td>Cumings, Mrs. John Bradley (Florence Briggs Th...</td>\n",
       "      <td>female</td>\n",
       "      <td>38.0</td>\n",
       "      <td>1</td>\n",
       "      <td>0</td>\n",
       "      <td>PC 17599</td>\n",
       "      <td>71.2833</td>\n",
       "      <td>C85</td>\n",
       "      <td>C</td>\n",
       "    </tr>\n",
       "    <tr>\n",
       "      <th>2</th>\n",
       "      <td>3</td>\n",
       "      <td>1</td>\n",
       "      <td>3</td>\n",
       "      <td>Heikkinen, Miss. Laina</td>\n",
       "      <td>female</td>\n",
       "      <td>26.0</td>\n",
       "      <td>0</td>\n",
       "      <td>0</td>\n",
       "      <td>STON/O2. 3101282</td>\n",
       "      <td>7.9250</td>\n",
       "      <td>NaN</td>\n",
       "      <td>S</td>\n",
       "    </tr>\n",
       "    <tr>\n",
       "      <th>3</th>\n",
       "      <td>4</td>\n",
       "      <td>1</td>\n",
       "      <td>1</td>\n",
       "      <td>Futrelle, Mrs. Jacques Heath (Lily May Peel)</td>\n",
       "      <td>female</td>\n",
       "      <td>35.0</td>\n",
       "      <td>1</td>\n",
       "      <td>0</td>\n",
       "      <td>113803</td>\n",
       "      <td>53.1000</td>\n",
       "      <td>C123</td>\n",
       "      <td>S</td>\n",
       "    </tr>\n",
       "    <tr>\n",
       "      <th>4</th>\n",
       "      <td>5</td>\n",
       "      <td>0</td>\n",
       "      <td>3</td>\n",
       "      <td>Allen, Mr. William Henry</td>\n",
       "      <td>male</td>\n",
       "      <td>35.0</td>\n",
       "      <td>0</td>\n",
       "      <td>0</td>\n",
       "      <td>373450</td>\n",
       "      <td>8.0500</td>\n",
       "      <td>NaN</td>\n",
       "      <td>S</td>\n",
       "    </tr>\n",
       "  </tbody>\n",
       "</table>\n",
       "</div>"
      ],
      "text/plain": [
       "   PassengerId  Survived  Pclass  \\\n",
       "0            1         0       3   \n",
       "1            2         1       1   \n",
       "2            3         1       3   \n",
       "3            4         1       1   \n",
       "4            5         0       3   \n",
       "\n",
       "                                                Name     Sex   Age  SibSp  \\\n",
       "0                            Braund, Mr. Owen Harris    male  22.0      1   \n",
       "1  Cumings, Mrs. John Bradley (Florence Briggs Th...  female  38.0      1   \n",
       "2                             Heikkinen, Miss. Laina  female  26.0      0   \n",
       "3       Futrelle, Mrs. Jacques Heath (Lily May Peel)  female  35.0      1   \n",
       "4                           Allen, Mr. William Henry    male  35.0      0   \n",
       "\n",
       "   Parch            Ticket     Fare Cabin Embarked  \n",
       "0      0         A/5 21171   7.2500   NaN        S  \n",
       "1      0          PC 17599  71.2833   C85        C  \n",
       "2      0  STON/O2. 3101282   7.9250   NaN        S  \n",
       "3      0            113803  53.1000  C123        S  \n",
       "4      0            373450   8.0500   NaN        S  "
      ]
     },
     "execution_count": 2,
     "metadata": {},
     "output_type": "execute_result"
    }
   ],
   "source": [
    "# Import data \n",
    "df_train = pd.read_csv('./train.csv')\n",
    "df_train.head()"
   ]
  },
  {
   "cell_type": "code",
   "execution_count": 3,
   "id": "0affe99b-0f42-4d47-9693-3beddc0ef436",
   "metadata": {},
   "outputs": [
    {
     "data": {
      "text/plain": [
       "(891, 12)"
      ]
     },
     "execution_count": 3,
     "metadata": {},
     "output_type": "execute_result"
    }
   ],
   "source": [
    "# size\n",
    "df_train.shape"
   ]
  },
  {
   "cell_type": "markdown",
   "id": "634f99be-4ce0-4508-bad6-b771825f2cd6",
   "metadata": {},
   "source": [
    "## Variable Discussion \n",
    "\n",
    "Based on the descriptions of the variables and competition description, let's set some expectations of trends we expect to see. \n",
    "\n",
    "- **PassengerId**: No impact on survival.\n",
    "- **Pclass**: 1 is Upper Class and 3 is Lower Class. Medium impact on survival with Upper Class having a higher survival rate. \n",
    "- **Sex**: Low-medium impact on survival with females having a higher survival rate. \n",
    "- **Age**: High impact on survival with children and elderly having a higher survival rate. \n",
    "- **SibSp**: Indicates # of siblings / spouses aboard the titatic. Unsure of impact - need to dig into data. \n",
    "- **Parch**: Indicates # of children / parents aboard the titatic. Unsure of impact - need to dig into data. \n",
    "- **Ticket**: Negligible impact on survival as expecting all unique values. \n",
    "- **Fare**: Expected to be correlated to Pclass with medium impact on survival. \n",
    "- **Cabin**: Low impact expected as Lower Class passengers do not have a cabin - thus lots of missing data expected. \n",
    "- **Embarked**: Unsure of impact - need to dig into data. \n",
    "\n",
    "**Main Variables of Interest**: \n",
    "- Medium-High Impact: `Age`, `Pclass`, `Fare`, `Sex` \n",
    "- Unsure of Impact: `SibSp`, `Parch`, `Embarked` "
   ]
  },
  {
   "cell_type": "markdown",
   "id": "80472af6-8b70-4e0e-8e2e-05bdcb7e3032",
   "metadata": {},
   "source": [
    "## Bivariate Variable Relationships \n",
    "\n",
    "Let's explore the relationship between `Survived` and other variables of interest. To avoid repetitive work, we need to identify predictors that are correlated with each other using a correlation matrix. "
   ]
  },
  {
   "cell_type": "code",
   "execution_count": 4,
   "id": "3b9607ff-f9dc-469b-85cc-b88a970f9e53",
   "metadata": {},
   "outputs": [
    {
     "data": {
      "text/plain": [
       "<AxesSubplot:>"
      ]
     },
     "execution_count": 4,
     "metadata": {},
     "output_type": "execute_result"
    },
    {
     "data": {
      "image/png": "[encoded data removed]",
      "text/plain": [
       "<Figure size 432x288 with 2 Axes>"
      ]
     },
     "metadata": {
      "needs_background": "light"
     },
     "output_type": "display_data"
    }
   ],
   "source": [
    "corr_mat = df_train.corr()\n",
    "sns.heatmap(corr_mat, annot=True, vmax=0.8)"
   ]
  },
  {
   "cell_type": "markdown",
   "id": "1c4fd860-cb21-4bb9-9d03-299a0468be1e",
   "metadata": {},
   "source": [
    "**Strong Predictors**: \n",
    "- As expected `Pclass` has a moderate correlation with `Survived` where Upper Class passengers have a higher survival rate. \n",
    "\n",
    "**Multicollinearity Variables**\n",
    "- As expected, `Pclass` and `Fare` are moderately inversely correlated. Hence, depending on the machine learning algorithm chosen, one of these variables will be dropped from the analysis. \n",
    "- `Parch` and `SibSp` are positively correlated which makes sense given the close definition of the two variables. A new feature can possibly be engineered from the information represented in both the variables separately. "
   ]
  },
  {
   "cell_type": "markdown",
   "id": "937cbcf5-e667-4d5b-8c40-42fc6ce9107c",
   "metadata": {},
   "source": [
    "### Numerical Variable Relationships\n",
    "\n",
    "Numerical variables to explore: `Age`, `Fare` "
   ]
  },
  {
   "cell_type": "code",
   "execution_count": 16,
   "id": "edffac1f-aaf2-418d-8da0-923e52838994",
   "metadata": {},
   "outputs": [
    {
     "data": {
      "text/html": [
       "<div>\n",
       "<style scoped>\n",
       "    .dataframe tbody tr th:only-of-type {\n",
       "        vertical-align: middle;\n",
       "    }\n",
       "\n",
       "    .dataframe tbody tr th {\n",
       "        vertical-align: top;\n",
       "    }\n",
       "\n",
       "    .dataframe thead th {\n",
       "        text-align: right;\n",
       "    }\n",
       "</style>\n",
       "<table border=\"1\" class=\"dataframe\">\n",
       "  <thead>\n",
       "    <tr style=\"text-align: right;\">\n",
       "      <th></th>\n",
       "      <th>count</th>\n",
       "      <th>mean</th>\n",
       "      <th>std</th>\n",
       "      <th>min</th>\n",
       "      <th>25%</th>\n",
       "      <th>50%</th>\n",
       "      <th>75%</th>\n",
       "      <th>max</th>\n",
       "    </tr>\n",
       "    <tr>\n",
       "      <th>Survived</th>\n",
       "      <th></th>\n",
       "      <th></th>\n",
       "      <th></th>\n",
       "      <th></th>\n",
       "      <th></th>\n",
       "      <th></th>\n",
       "      <th></th>\n",
       "      <th></th>\n",
       "    </tr>\n",
       "  </thead>\n",
       "  <tbody>\n",
       "    <tr>\n",
       "      <th>0</th>\n",
       "      <td>424.0</td>\n",
       "      <td>30.626179</td>\n",
       "      <td>14.172110</td>\n",
       "      <td>1.00</td>\n",
       "      <td>21.0</td>\n",
       "      <td>28.0</td>\n",
       "      <td>39.0</td>\n",
       "      <td>74.0</td>\n",
       "    </tr>\n",
       "    <tr>\n",
       "      <th>1</th>\n",
       "      <td>290.0</td>\n",
       "      <td>28.343690</td>\n",
       "      <td>14.950952</td>\n",
       "      <td>0.42</td>\n",
       "      <td>19.0</td>\n",
       "      <td>28.0</td>\n",
       "      <td>36.0</td>\n",
       "      <td>80.0</td>\n",
       "    </tr>\n",
       "  </tbody>\n",
       "</table>\n",
       "</div>"
      ],
      "text/plain": [
       "          count       mean        std   min   25%   50%   75%   max\n",
       "Survived                                                           \n",
       "0         424.0  30.626179  14.172110  1.00  21.0  28.0  39.0  74.0\n",
       "1         290.0  28.343690  14.950952  0.42  19.0  28.0  36.0  80.0"
      ]
     },
     "execution_count": 16,
     "metadata": {},
     "output_type": "execute_result"
    },
    {
     "data": {
      "image/png": "[encoded data removed]",
      "text/plain": [
       "<Figure size 432x288 with 1 Axes>"
      ]
     },
     "metadata": {
      "needs_background": "light"
     },
     "output_type": "display_data"
    }
   ],
   "source": [
    "sns.violinplot(x='Survived', y='Age', data=df_train)\n",
    "df_train.groupby('Survived').Age.describe()\n",
    "# sns.swarmplot(x='Survived', y='Age', data=df_train, s=4)"
   ]
  },
  {
   "cell_type": "markdown",
   "id": "b3cd4dab-2eb8-4334-b238-eb6c49b4abed",
   "metadata": {},
   "source": [
    "Unlike expectations, no trend is observed between higher ages and survival. A minor trend is seen for children with a higher proportion of them surviving compared to all other ages. "
   ]
  },
  {
   "cell_type": "code",
   "execution_count": 26,
   "id": "209f21da-0ed3-4686-a1a4-c32061608d40",
   "metadata": {},
   "outputs": [
    {
     "data": {
      "text/html": [
       "<div>\n",
       "<style scoped>\n",
       "    .dataframe tbody tr th:only-of-type {\n",
       "        vertical-align: middle;\n",
       "    }\n",
       "\n",
       "    .dataframe tbody tr th {\n",
       "        vertical-align: top;\n",
       "    }\n",
       "\n",
       "    .dataframe thead th {\n",
       "        text-align: right;\n",
       "    }\n",
       "</style>\n",
       "<table border=\"1\" class=\"dataframe\">\n",
       "  <thead>\n",
       "    <tr style=\"text-align: right;\">\n",
       "      <th></th>\n",
       "      <th>count</th>\n",
       "      <th>mean</th>\n",
       "      <th>std</th>\n",
       "      <th>min</th>\n",
       "      <th>25%</th>\n",
       "      <th>50%</th>\n",
       "      <th>75%</th>\n",
       "      <th>max</th>\n",
       "    </tr>\n",
       "    <tr>\n",
       "      <th>Survived</th>\n",
       "      <th></th>\n",
       "      <th></th>\n",
       "      <th></th>\n",
       "      <th></th>\n",
       "      <th></th>\n",
       "      <th></th>\n",
       "      <th></th>\n",
       "      <th></th>\n",
       "    </tr>\n",
       "  </thead>\n",
       "  <tbody>\n",
       "    <tr>\n",
       "      <th>0</th>\n",
       "      <td>549.0</td>\n",
       "      <td>22.117887</td>\n",
       "      <td>31.388207</td>\n",
       "      <td>0.0</td>\n",
       "      <td>7.8542</td>\n",
       "      <td>10.5</td>\n",
       "      <td>26.0</td>\n",
       "      <td>263.0000</td>\n",
       "    </tr>\n",
       "    <tr>\n",
       "      <th>1</th>\n",
       "      <td>342.0</td>\n",
       "      <td>48.395408</td>\n",
       "      <td>66.596998</td>\n",
       "      <td>0.0</td>\n",
       "      <td>12.4750</td>\n",
       "      <td>26.0</td>\n",
       "      <td>57.0</td>\n",
       "      <td>512.3292</td>\n",
       "    </tr>\n",
       "  </tbody>\n",
       "</table>\n",
       "</div>"
      ],
      "text/plain": [
       "          count       mean        std  min      25%   50%   75%       max\n",
       "Survived                                                                 \n",
       "0         549.0  22.117887  31.388207  0.0   7.8542  10.5  26.0  263.0000\n",
       "1         342.0  48.395408  66.596998  0.0  12.4750  26.0  57.0  512.3292"
      ]
     },
     "execution_count": 26,
     "metadata": {},
     "output_type": "execute_result"
    },
    {
     "data": {
      "image/png": "[encoded data removed]",
      "text/plain": [
       "<Figure size 432x288 with 1 Axes>"
      ]
     },
     "metadata": {
      "needs_background": "light"
     },
     "output_type": "display_data"
    }
   ],
   "source": [
    "sns.violinplot(x='Survived', y='Fare', data=df_train)\n",
    "df_train.groupby('Survived').Fare.describe()"
   ]
  },
  {
   "cell_type": "markdown",
   "id": "8bf92fde-a065-451f-98d1-820bf2332ca8",
   "metadata": {},
   "source": [
    "The violin plot and summary statistics both show a trend where the passengers with higher fares had greater chance of survival. "
   ]
  },
  {
   "cell_type": "code",
   "execution_count": null,
   "id": "5d3292c5-7f8d-402e-9039-cb10ff56a251",
   "metadata": {},
   "outputs": [],
   "source": [
    "# sns.stripplot(x='Survived', y='Pclass', data=df_train)   #-not good\n",
    "# sns.swarmplot(x='Survived', y='Pclass', data=df_train, s=4)   # doesn't work\n",
    "# sns.violinplot(x='Survived', y='Pclass', data=df_train)    # seems best so far\n",
    "sns.pointplot(x='Pclass', y='Survived', data=df_train)\n",
    "df_train.groupby('Survived').Pclass.describe()\n",
    "# fig.set(ylim=(-50, 300))\n",
    "# fig.show()\n",
    "# sns.barplot(x='Survived', y='Pclass', data=df_train)    #-meh \n",
    "# sns.boxplot(x='Survived', y='Pclass', data=df_train)   # - bad"
   ]
  },
  {
   "cell_type": "markdown",
   "id": "fbc99681-3395-4134-9f34-144dcfa96996",
   "metadata": {},
   "source": [
    "### Categorical Variable Relationships\n",
    "\n",
    "Categorical variables to explore: `Pclass`, `Sex`, `SibSp`, `Parch`, `Embarked` \n",
    "\n",
    "Even though we have already established that `Pclass` and `Fare` are correlated and only one of the two will be used in the final analysis, it is worth exploring `Pclass` to judge which of the two variables provides better information to our final machine learning model. "
   ]
  },
  {
   "cell_type": "code",
   "execution_count": 40,
   "id": "57f272de-00f7-434f-9826-e1362be8855f",
   "metadata": {},
   "outputs": [
    {
     "data": {
      "text/html": [
       "<div>\n",
       "<style scoped>\n",
       "    .dataframe tbody tr th:only-of-type {\n",
       "        vertical-align: middle;\n",
       "    }\n",
       "\n",
       "    .dataframe tbody tr th {\n",
       "        vertical-align: top;\n",
       "    }\n",
       "\n",
       "    .dataframe thead th {\n",
       "        text-align: right;\n",
       "    }\n",
       "</style>\n",
       "<table border=\"1\" class=\"dataframe\">\n",
       "  <thead>\n",
       "    <tr style=\"text-align: right;\">\n",
       "      <th></th>\n",
       "      <th>count</th>\n",
       "      <th>mean</th>\n",
       "      <th>std</th>\n",
       "      <th>min</th>\n",
       "      <th>25%</th>\n",
       "      <th>50%</th>\n",
       "      <th>75%</th>\n",
       "      <th>max</th>\n",
       "    </tr>\n",
       "    <tr>\n",
       "      <th>Survived</th>\n",
       "      <th></th>\n",
       "      <th></th>\n",
       "      <th></th>\n",
       "      <th></th>\n",
       "      <th></th>\n",
       "      <th></th>\n",
       "      <th></th>\n",
       "      <th></th>\n",
       "    </tr>\n",
       "  </thead>\n",
       "  <tbody>\n",
       "    <tr>\n",
       "      <th>0</th>\n",
       "      <td>549.0</td>\n",
       "      <td>2.531876</td>\n",
       "      <td>0.735805</td>\n",
       "      <td>1.0</td>\n",
       "      <td>2.0</td>\n",
       "      <td>3.0</td>\n",
       "      <td>3.0</td>\n",
       "      <td>3.0</td>\n",
       "    </tr>\n",
       "    <tr>\n",
       "      <th>1</th>\n",
       "      <td>342.0</td>\n",
       "      <td>1.950292</td>\n",
       "      <td>0.863321</td>\n",
       "      <td>1.0</td>\n",
       "      <td>1.0</td>\n",
       "      <td>2.0</td>\n",
       "      <td>3.0</td>\n",
       "      <td>3.0</td>\n",
       "    </tr>\n",
       "  </tbody>\n",
       "</table>\n",
       "</div>"
      ],
      "text/plain": [
       "          count      mean       std  min  25%  50%  75%  max\n",
       "Survived                                                    \n",
       "0         549.0  2.531876  0.735805  1.0  2.0  3.0  3.0  3.0\n",
       "1         342.0  1.950292  0.863321  1.0  1.0  2.0  3.0  3.0"
      ]
     },
     "execution_count": 40,
     "metadata": {},
     "output_type": "execute_result"
    },
    {
     "data": {
      "image/png": "[encoded data removed]",
      "text/plain": [
       "<Figure size 432x288 with 1 Axes>"
      ]
     },
     "metadata": {
      "needs_background": "light"
     },
     "output_type": "display_data"
    }
   ],
   "source": [
    "# sns.pointplot(x='Pclass', y='Survived', data=df_train)\n",
    "sns.violinplot(x='Pclass', y='Survived', data=df_train)\n",
    "df_train.groupby('Survived').Pclass.describe()"
   ]
  },
  {
   "cell_type": "code",
   "execution_count": 41,
   "id": "f3373c5d-da51-42d7-b16d-394d10124c9c",
   "metadata": {},
   "outputs": [
    {
     "data": {
      "text/html": [
       "<div>\n",
       "<style scoped>\n",
       "    .dataframe tbody tr th:only-of-type {\n",
       "        vertical-align: middle;\n",
       "    }\n",
       "\n",
       "    .dataframe tbody tr th {\n",
       "        vertical-align: top;\n",
       "    }\n",
       "\n",
       "    .dataframe thead th {\n",
       "        text-align: right;\n",
       "    }\n",
       "</style>\n",
       "<table border=\"1\" class=\"dataframe\">\n",
       "  <thead>\n",
       "    <tr style=\"text-align: right;\">\n",
       "      <th></th>\n",
       "      <th>count</th>\n",
       "      <th>unique</th>\n",
       "      <th>top</th>\n",
       "      <th>freq</th>\n",
       "    </tr>\n",
       "    <tr>\n",
       "      <th>Survived</th>\n",
       "      <th></th>\n",
       "      <th></th>\n",
       "      <th></th>\n",
       "      <th></th>\n",
       "    </tr>\n",
       "  </thead>\n",
       "  <tbody>\n",
       "    <tr>\n",
       "      <th>0</th>\n",
       "      <td>549</td>\n",
       "      <td>2</td>\n",
       "      <td>male</td>\n",
       "      <td>468</td>\n",
       "    </tr>\n",
       "    <tr>\n",
       "      <th>1</th>\n",
       "      <td>342</td>\n",
       "      <td>2</td>\n",
       "      <td>female</td>\n",
       "      <td>233</td>\n",
       "    </tr>\n",
       "  </tbody>\n",
       "</table>\n",
       "</div>"
      ],
      "text/plain": [
       "         count unique     top freq\n",
       "Survived                          \n",
       "0          549      2    male  468\n",
       "1          342      2  female  233"
      ]
     },
     "execution_count": 41,
     "metadata": {},
     "output_type": "execute_result"
    },
    {
     "data": {
      "image/png": "[encoded data removed]",
      "text/plain": [
       "<Figure size 432x288 with 1 Axes>"
      ]
     },
     "metadata": {
      "needs_background": "light"
     },
     "output_type": "display_data"
    }
   ],
   "source": [
    "# sns.pointplot(x='Sex', y='Survived', data=df_train)\n",
    "sns.violinplot(x='Sex', y='Survived', data=df_train)\n",
    "df_train.groupby('Survived').Sex.describe()"
   ]
  },
  {
   "cell_type": "markdown",
   "id": "2d2b5e19-826b-47d5-a956-bef712b80e16",
   "metadata": {},
   "source": [
    "As expected, females have a much higher chance of survival versus males. "
   ]
  },
  {
   "cell_type": "code",
   "execution_count": 63,
   "id": "9b383294-941c-42d8-b299-a61e522b5929",
   "metadata": {},
   "outputs": [
    {
     "data": {
      "text/html": [
       "<div>\n",
       "<style scoped>\n",
       "    .dataframe tbody tr th:only-of-type {\n",
       "        vertical-align: middle;\n",
       "    }\n",
       "\n",
       "    .dataframe tbody tr th {\n",
       "        vertical-align: top;\n",
       "    }\n",
       "\n",
       "    .dataframe thead th {\n",
       "        text-align: right;\n",
       "    }\n",
       "</style>\n",
       "<table border=\"1\" class=\"dataframe\">\n",
       "  <thead>\n",
       "    <tr style=\"text-align: right;\">\n",
       "      <th></th>\n",
       "      <th>count</th>\n",
       "      <th>mean</th>\n",
       "      <th>std</th>\n",
       "      <th>min</th>\n",
       "      <th>25%</th>\n",
       "      <th>50%</th>\n",
       "      <th>75%</th>\n",
       "      <th>max</th>\n",
       "    </tr>\n",
       "    <tr>\n",
       "      <th>Embarked</th>\n",
       "      <th></th>\n",
       "      <th></th>\n",
       "      <th></th>\n",
       "      <th></th>\n",
       "      <th></th>\n",
       "      <th></th>\n",
       "      <th></th>\n",
       "      <th></th>\n",
       "    </tr>\n",
       "  </thead>\n",
       "  <tbody>\n",
       "    <tr>\n",
       "      <th>C</th>\n",
       "      <td>168.0</td>\n",
       "      <td>0.750000</td>\n",
       "      <td>0.926974</td>\n",
       "      <td>0.0</td>\n",
       "      <td>0.0</td>\n",
       "      <td>0.0</td>\n",
       "      <td>1.0</td>\n",
       "      <td>4.0</td>\n",
       "    </tr>\n",
       "    <tr>\n",
       "      <th>Q</th>\n",
       "      <td>77.0</td>\n",
       "      <td>0.597403</td>\n",
       "      <td>1.310481</td>\n",
       "      <td>0.0</td>\n",
       "      <td>0.0</td>\n",
       "      <td>0.0</td>\n",
       "      <td>1.0</td>\n",
       "      <td>5.0</td>\n",
       "    </tr>\n",
       "    <tr>\n",
       "      <th>S</th>\n",
       "      <td>644.0</td>\n",
       "      <td>0.984472</td>\n",
       "      <td>1.774997</td>\n",
       "      <td>0.0</td>\n",
       "      <td>0.0</td>\n",
       "      <td>0.0</td>\n",
       "      <td>1.0</td>\n",
       "      <td>10.0</td>\n",
       "    </tr>\n",
       "  </tbody>\n",
       "</table>\n",
       "</div>"
      ],
      "text/plain": [
       "          count      mean       std  min  25%  50%  75%   max\n",
       "Embarked                                                     \n",
       "C         168.0  0.750000  0.926974  0.0  0.0  0.0  1.0   4.0\n",
       "Q          77.0  0.597403  1.310481  0.0  0.0  0.0  1.0   5.0\n",
       "S         644.0  0.984472  1.774997  0.0  0.0  0.0  1.0  10.0"
      ]
     },
     "execution_count": 63,
     "metadata": {},
     "output_type": "execute_result"
    },
    {
     "data": {
      "image/png": "[encoded data removed]",
      "text/plain": [
       "<Figure size 432x288 with 1 Axes>"
      ]
     },
     "metadata": {
      "needs_background": "light"
     },
     "output_type": "display_data"
    }
   ],
   "source": [
    "sns.pointplot(x='Embarked', y='Survived', data=df_train)\n",
    "# sns.violinplot(x='Embarked', y='Survived', data=df_train)\n",
    "df_train.groupby('Embarked').total_family.describe()"
   ]
  },
  {
   "cell_type": "markdown",
   "id": "b9c53276-86b5-4ef8-abd4-0c8b7b7d5fb2",
   "metadata": {},
   "source": [
    "`Embarked` has a low-medium impact on survival with `C` for Cherbourg having a greater survival rate. "
   ]
  },
  {
   "cell_type": "code",
   "execution_count": 56,
   "id": "b82f7b36-7ed3-4f1a-90cc-16511dbef342",
   "metadata": {},
   "outputs": [
    {
     "data": {
      "text/html": [
       "<div>\n",
       "<style scoped>\n",
       "    .dataframe tbody tr th:only-of-type {\n",
       "        vertical-align: middle;\n",
       "    }\n",
       "\n",
       "    .dataframe tbody tr th {\n",
       "        vertical-align: top;\n",
       "    }\n",
       "\n",
       "    .dataframe thead th {\n",
       "        text-align: right;\n",
       "    }\n",
       "</style>\n",
       "<table border=\"1\" class=\"dataframe\">\n",
       "  <thead>\n",
       "    <tr style=\"text-align: right;\">\n",
       "      <th></th>\n",
       "      <th>count</th>\n",
       "      <th>mean</th>\n",
       "      <th>std</th>\n",
       "      <th>min</th>\n",
       "      <th>25%</th>\n",
       "      <th>50%</th>\n",
       "      <th>75%</th>\n",
       "      <th>max</th>\n",
       "    </tr>\n",
       "    <tr>\n",
       "      <th>Survived</th>\n",
       "      <th></th>\n",
       "      <th></th>\n",
       "      <th></th>\n",
       "      <th></th>\n",
       "      <th></th>\n",
       "      <th></th>\n",
       "      <th></th>\n",
       "      <th></th>\n",
       "    </tr>\n",
       "  </thead>\n",
       "  <tbody>\n",
       "    <tr>\n",
       "      <th>0</th>\n",
       "      <td>549.0</td>\n",
       "      <td>0.329690</td>\n",
       "      <td>0.823166</td>\n",
       "      <td>0.0</td>\n",
       "      <td>0.0</td>\n",
       "      <td>0.0</td>\n",
       "      <td>0.0</td>\n",
       "      <td>6.0</td>\n",
       "    </tr>\n",
       "    <tr>\n",
       "      <th>1</th>\n",
       "      <td>342.0</td>\n",
       "      <td>0.464912</td>\n",
       "      <td>0.771712</td>\n",
       "      <td>0.0</td>\n",
       "      <td>0.0</td>\n",
       "      <td>0.0</td>\n",
       "      <td>1.0</td>\n",
       "      <td>5.0</td>\n",
       "    </tr>\n",
       "  </tbody>\n",
       "</table>\n",
       "</div>"
      ],
      "text/plain": [
       "          count      mean       std  min  25%  50%  75%  max\n",
       "Survived                                                    \n",
       "0         549.0  0.329690  0.823166  0.0  0.0  0.0  0.0  6.0\n",
       "1         342.0  0.464912  0.771712  0.0  0.0  0.0  1.0  5.0"
      ]
     },
     "execution_count": 56,
     "metadata": {},
     "output_type": "execute_result"
    },
    {
     "data": {
      "image/png": "[encoded data removed]",
      "text/plain": [
       "<Figure size 432x288 with 1 Axes>"
      ]
     },
     "metadata": {
      "needs_background": "light"
     },
     "output_type": "display_data"
    }
   ],
   "source": [
    "sns.pointplot(x='Parch', y='Survived', data=df_train)\n",
    "# sns.violinplot(x='Parch', y='Survived', data=df_train)\n",
    "df_train.groupby('Survived').Parch.describe()"
   ]
  },
  {
   "cell_type": "code",
   "execution_count": 55,
   "id": "abe1b56e-e9cf-49ce-8bff-849ad7465451",
   "metadata": {},
   "outputs": [
    {
     "data": {
      "text/html": [
       "<div>\n",
       "<style scoped>\n",
       "    .dataframe tbody tr th:only-of-type {\n",
       "        vertical-align: middle;\n",
       "    }\n",
       "\n",
       "    .dataframe tbody tr th {\n",
       "        vertical-align: top;\n",
       "    }\n",
       "\n",
       "    .dataframe thead th {\n",
       "        text-align: right;\n",
       "    }\n",
       "</style>\n",
       "<table border=\"1\" class=\"dataframe\">\n",
       "  <thead>\n",
       "    <tr style=\"text-align: right;\">\n",
       "      <th></th>\n",
       "      <th>count</th>\n",
       "      <th>mean</th>\n",
       "      <th>std</th>\n",
       "      <th>min</th>\n",
       "      <th>25%</th>\n",
       "      <th>50%</th>\n",
       "      <th>75%</th>\n",
       "      <th>max</th>\n",
       "    </tr>\n",
       "    <tr>\n",
       "      <th>Survived</th>\n",
       "      <th></th>\n",
       "      <th></th>\n",
       "      <th></th>\n",
       "      <th></th>\n",
       "      <th></th>\n",
       "      <th></th>\n",
       "      <th></th>\n",
       "      <th></th>\n",
       "    </tr>\n",
       "  </thead>\n",
       "  <tbody>\n",
       "    <tr>\n",
       "      <th>0</th>\n",
       "      <td>549.0</td>\n",
       "      <td>0.553734</td>\n",
       "      <td>1.288399</td>\n",
       "      <td>0.0</td>\n",
       "      <td>0.0</td>\n",
       "      <td>0.0</td>\n",
       "      <td>1.0</td>\n",
       "      <td>8.0</td>\n",
       "    </tr>\n",
       "    <tr>\n",
       "      <th>1</th>\n",
       "      <td>342.0</td>\n",
       "      <td>0.473684</td>\n",
       "      <td>0.708688</td>\n",
       "      <td>0.0</td>\n",
       "      <td>0.0</td>\n",
       "      <td>0.0</td>\n",
       "      <td>1.0</td>\n",
       "      <td>4.0</td>\n",
       "    </tr>\n",
       "  </tbody>\n",
       "</table>\n",
       "</div>"
      ],
      "text/plain": [
       "          count      mean       std  min  25%  50%  75%  max\n",
       "Survived                                                    \n",
       "0         549.0  0.553734  1.288399  0.0  0.0  0.0  1.0  8.0\n",
       "1         342.0  0.473684  0.708688  0.0  0.0  0.0  1.0  4.0"
      ]
     },
     "execution_count": 55,
     "metadata": {},
     "output_type": "execute_result"
    },
    {
     "data": {
      "image/png": "[encoded data removed]",
      "text/plain": [
       "<Figure size 432x288 with 1 Axes>"
      ]
     },
     "metadata": {
      "needs_background": "light"
     },
     "output_type": "display_data"
    }
   ],
   "source": [
    "sns.pointplot(x='SibSp', y='Survived', data=df_train)\n",
    "df_train.groupby('Survived').SibSp.describe()"
   ]
  },
  {
   "cell_type": "markdown",
   "id": "0ca5d43b-765f-431d-988c-358de2dc0dfc",
   "metadata": {},
   "source": [
    "`SibSp` and `Parch` were also identified to be correlated to each other. To better use the information within the two variables and avoid the correlation, a new variable `family_size` can be engineered. \n",
    "\n",
    "`family_size` = `SibSp` + `Parch` which is the number of direct family members the specific passenger has on board. "
   ]
  },
  {
   "cell_type": "code",
   "execution_count": 59,
   "id": "de467189-7246-4834-9f66-c105f1763dc6",
   "metadata": {},
   "outputs": [
    {
     "data": {
      "text/html": [
       "<div>\n",
       "<style scoped>\n",
       "    .dataframe tbody tr th:only-of-type {\n",
       "        vertical-align: middle;\n",
       "    }\n",
       "\n",
       "    .dataframe tbody tr th {\n",
       "        vertical-align: top;\n",
       "    }\n",
       "\n",
       "    .dataframe thead th {\n",
       "        text-align: right;\n",
       "    }\n",
       "</style>\n",
       "<table border=\"1\" class=\"dataframe\">\n",
       "  <thead>\n",
       "    <tr style=\"text-align: right;\">\n",
       "      <th></th>\n",
       "      <th>count</th>\n",
       "      <th>mean</th>\n",
       "      <th>std</th>\n",
       "      <th>min</th>\n",
       "      <th>25%</th>\n",
       "      <th>50%</th>\n",
       "      <th>75%</th>\n",
       "      <th>max</th>\n",
       "    </tr>\n",
       "    <tr>\n",
       "      <th>Survived</th>\n",
       "      <th></th>\n",
       "      <th></th>\n",
       "      <th></th>\n",
       "      <th></th>\n",
       "      <th></th>\n",
       "      <th></th>\n",
       "      <th></th>\n",
       "      <th></th>\n",
       "    </tr>\n",
       "  </thead>\n",
       "  <tbody>\n",
       "    <tr>\n",
       "      <th>0</th>\n",
       "      <td>549.0</td>\n",
       "      <td>0.883424</td>\n",
       "      <td>1.830669</td>\n",
       "      <td>0.0</td>\n",
       "      <td>0.0</td>\n",
       "      <td>0.0</td>\n",
       "      <td>1.0</td>\n",
       "      <td>10.0</td>\n",
       "    </tr>\n",
       "    <tr>\n",
       "      <th>1</th>\n",
       "      <td>342.0</td>\n",
       "      <td>0.938596</td>\n",
       "      <td>1.186076</td>\n",
       "      <td>0.0</td>\n",
       "      <td>0.0</td>\n",
       "      <td>1.0</td>\n",
       "      <td>2.0</td>\n",
       "      <td>6.0</td>\n",
       "    </tr>\n",
       "  </tbody>\n",
       "</table>\n",
       "</div>"
      ],
      "text/plain": [
       "          count      mean       std  min  25%  50%  75%   max\n",
       "Survived                                                     \n",
       "0         549.0  0.883424  1.830669  0.0  0.0  0.0  1.0  10.0\n",
       "1         342.0  0.938596  1.186076  0.0  0.0  1.0  2.0   6.0"
      ]
     },
     "execution_count": 59,
     "metadata": {},
     "output_type": "execute_result"
    },
    {
     "data": {
      "image/png": "[encoded data removed]",
      "text/plain": [
       "<Figure size 432x288 with 1 Axes>"
      ]
     },
     "metadata": {
      "needs_background": "light"
     },
     "output_type": "display_data"
    }
   ],
   "source": [
    "df_train['family_size'] = df_train.SibSp + df_train.Parch\n",
    "\n",
    "sns.pointplot(x='family_size', y='Survived', data=df_train)\n",
    "df_train.groupby('Survived').total_family.describe()"
   ]
  },
  {
   "cell_type": "markdown",
   "id": "cbef557f-beec-4385-8f7f-748f3512c106",
   "metadata": {},
   "source": [
    "It seems that the chance of survival increases if you're part of a family, maxing out at a `family_size` of 3 (actual family size is 4 including the passenger itself) and decreasing for bigger families. "
   ]
  },
  {
   "cell_type": "markdown",
   "id": "f05dfe4b-8980-4ed0-a8ce-ef4e5b4683d3",
   "metadata": {},
   "source": [
    "### In Summary\n",
    "\n",
    "- `Fare` and `Pclass` both are correlated to each other and have a **medium** impact on survival rate where Upper Class passengers have a higher survival rate. `Fare` will be used in analysis going forward to avoid multicollinearity. \n",
    "- `Age` has **low** impact on survival for almost all ages except children having a marginally higher survival. \n",
    "- `Sex` has **high** impact on survival.\n",
    "- `Embarked` has **low-medium** impact on survival with specific locations havign higher survival rate. \n",
    "- `SibSp` and `Parch` by themselves don't affect surival as much. `family_size` which is a sum of the two variables has a higher impact on survival compared to the individual variables. "
   ]
  },
  {
   "cell_type": "code",
   "execution_count": 64,
   "id": "5451e0a5-e0ff-41a7-a294-4028dd460271",
   "metadata": {},
   "outputs": [],
   "source": [
    "# Plot to dig further into splitters driving trends \n",
    "# sns.pointplot(x='Pclass', y='Survived', hue='Sex', data=df_train, palette={'male': 'g', 'female':'m'})"
   ]
  },
  {
   "cell_type": "markdown",
   "id": "7c117c2d-31bb-4090-8495-3b34a3eb21e2",
   "metadata": {},
   "source": [
    "## Missing Data \n",
    "\n",
    "Let's explore the quality of the data and clean variables that have missing data by either imputing or dropping from analysis. "
   ]
  },
  {
   "cell_type": "code",
   "execution_count": 70,
   "id": "79905ddd-ef4e-4ea2-8157-851802e57217",
   "metadata": {},
   "outputs": [
    {
     "data": {
      "text/html": [
       "<div>\n",
       "<style scoped>\n",
       "    .dataframe tbody tr th:only-of-type {\n",
       "        vertical-align: middle;\n",
       "    }\n",
       "\n",
       "    .dataframe tbody tr th {\n",
       "        vertical-align: top;\n",
       "    }\n",
       "\n",
       "    .dataframe thead th {\n",
       "        text-align: right;\n",
       "    }\n",
       "</style>\n",
       "<table border=\"1\" class=\"dataframe\">\n",
       "  <thead>\n",
       "    <tr style=\"text-align: right;\">\n",
       "      <th></th>\n",
       "      <th>Total</th>\n",
       "      <th>Percent</th>\n",
       "    </tr>\n",
       "  </thead>\n",
       "  <tbody>\n",
       "    <tr>\n",
       "      <th>Cabin</th>\n",
       "      <td>687</td>\n",
       "      <td>0.771044</td>\n",
       "    </tr>\n",
       "    <tr>\n",
       "      <th>Age</th>\n",
       "      <td>177</td>\n",
       "      <td>0.198653</td>\n",
       "    </tr>\n",
       "    <tr>\n",
       "      <th>Embarked</th>\n",
       "      <td>2</td>\n",
       "      <td>0.002245</td>\n",
       "    </tr>\n",
       "    <tr>\n",
       "      <th>PassengerId</th>\n",
       "      <td>0</td>\n",
       "      <td>0.000000</td>\n",
       "    </tr>\n",
       "    <tr>\n",
       "      <th>Survived</th>\n",
       "      <td>0</td>\n",
       "      <td>0.000000</td>\n",
       "    </tr>\n",
       "    <tr>\n",
       "      <th>Pclass</th>\n",
       "      <td>0</td>\n",
       "      <td>0.000000</td>\n",
       "    </tr>\n",
       "    <tr>\n",
       "      <th>Name</th>\n",
       "      <td>0</td>\n",
       "      <td>0.000000</td>\n",
       "    </tr>\n",
       "    <tr>\n",
       "      <th>Sex</th>\n",
       "      <td>0</td>\n",
       "      <td>0.000000</td>\n",
       "    </tr>\n",
       "    <tr>\n",
       "      <th>SibSp</th>\n",
       "      <td>0</td>\n",
       "      <td>0.000000</td>\n",
       "    </tr>\n",
       "    <tr>\n",
       "      <th>Parch</th>\n",
       "      <td>0</td>\n",
       "      <td>0.000000</td>\n",
       "    </tr>\n",
       "    <tr>\n",
       "      <th>Ticket</th>\n",
       "      <td>0</td>\n",
       "      <td>0.000000</td>\n",
       "    </tr>\n",
       "    <tr>\n",
       "      <th>Fare</th>\n",
       "      <td>0</td>\n",
       "      <td>0.000000</td>\n",
       "    </tr>\n",
       "    <tr>\n",
       "      <th>total_family</th>\n",
       "      <td>0</td>\n",
       "      <td>0.000000</td>\n",
       "    </tr>\n",
       "    <tr>\n",
       "      <th>family_size</th>\n",
       "      <td>0</td>\n",
       "      <td>0.000000</td>\n",
       "    </tr>\n",
       "  </tbody>\n",
       "</table>\n",
       "</div>"
      ],
      "text/plain": [
       "              Total   Percent\n",
       "Cabin           687  0.771044\n",
       "Age             177  0.198653\n",
       "Embarked          2  0.002245\n",
       "PassengerId       0  0.000000\n",
       "Survived          0  0.000000\n",
       "Pclass            0  0.000000\n",
       "Name              0  0.000000\n",
       "Sex               0  0.000000\n",
       "SibSp             0  0.000000\n",
       "Parch             0  0.000000\n",
       "Ticket            0  0.000000\n",
       "Fare              0  0.000000\n",
       "total_family      0  0.000000\n",
       "family_size       0  0.000000"
      ]
     },
     "execution_count": 70,
     "metadata": {},
     "output_type": "execute_result"
    }
   ],
   "source": [
    "total = df_train.isnull().sum().sort_values(ascending=False)\n",
    "percent = (df_train.isnull().sum()/df_train.isnull().count()).sort_values(ascending=False)\n",
    "missing_data = pd.concat([total, percent], axis=1, keys=['Total', 'Percent'])\n",
    "missing_data"
   ]
  },
  {
   "cell_type": "code",
   "execution_count": 60,
   "id": "e55de3c9-d127-44a5-b693-3a41a1c95cb4",
   "metadata": {},
   "outputs": [],
   "source": []
  },
  {
   "cell_type": "code",
   "execution_count": null,
   "id": "0366be09-ec5d-48c3-af5f-24fb75a86bf8",
   "metadata": {},
   "outputs": [],
   "source": []
  },
  {
   "cell_type": "code",
   "execution_count": null,
   "id": "427f6346-79d1-48b8-aa07-46d81740a235",
   "metadata": {},
   "outputs": [],
   "source": []
  }
 ],
 "metadata": {
  "kernelspec": {
   "display_name": "Python 3 (ipykernel)",
   "language": "python",
   "name": "python3"
  },
  "language_info": {
   "codemirror_mode": {
    "name": "ipython",
    "version": 3
   },
   "file_extension": ".py",
   "mimetype": "text/x-python",
   "name": "python",
   "nbconvert_exporter": "python",
   "pygments_lexer": "ipython3",
   "version": "3.9.4"
  }
 },
 "nbformat": 4,
 "nbformat_minor": 5
}
